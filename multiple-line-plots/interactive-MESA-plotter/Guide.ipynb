{
 "cells": [
  {
   "cell_type": "markdown",
   "metadata": {},
   "source": [
    "Interactive MESA Plotter (IMP for short) is a simple piece of software for python3 that produces interactive plots from MESA history files. No more making a new plot just because you want to zoom in on a particular region or have a different quantity on the axes! \n",
    "\n",
    "The plots are made using the python library Bokeh and are outputted as .html files which can be viewed in any web browser or shared online.\n",
    "\n",
    "## requirements  :  ##\n",
    " * bokeh (tested with version 2.4.3)\n",
    " * jinja2\n",
    " * numpy \n",
    "\n",
    "\n",
    "# How to #\n",
    "\n",
    "IMP has 3 modes of operation:\n",
    "\n",
    "1) single - to plot one history file\n",
    "\n",
    "2) multiple - to plot several history files on one figure \n",
    "\n",
    "3) binary - to plot a MESA binary calculation\n",
    "\n",
    "\n",
    "To make a plot, first initialise an iMESAplotter object, giving the directory (or a list of directories) of your MESA model(s) and the mode type (either 'single', 'multiple' or 'binary'). Optionally the value `round_num` can be set which rounds the data to the given number of decimal places. This produces smaller output files. The default is no rounding.\n",
    "\n",
    "~~~\n",
    "mp = iMESAplotter(my_mesa_dir, mode='single')\n",
    "~~~\n",
    "\n",
    "Optionally one can load in a custom html template with the 'load_html_template' function. This may be useful if you want to embed a plot in your own website or add some fancy formatting. \n",
    "~~~\n",
    "mp.load_html_template(my_template)\n",
    "~~~\n",
    "\n",
    "Then call the 'make_plot' function\n",
    "~~~\n",
    "mp.make_plot()\n",
    "~~~\n",
    "\n",
    "which has the following arguments:\n",
    "\n",
    "- **plot_width**= width of plot in pixels. Defaults to 700 \n",
    "- **plot_height**= height of plot in pixels. Defaults to 490\n",
    "- **line_cols**= list of line colours to plot. When mode ='single' only the first entry is used, when mode='binary', only the first two entries are used. Defaults to ['black','red','blue','green','orange']\n",
    "- **qual_list**= list of history columns to use in plot. Useful when history file is large and contains many junk columns. Defaults to using ALL columns in history file\n",
    "- **x_qual**= column to put on x axis initially. Defaults to first column of history file\n",
    "- **y_qual**= column to put on y axis initially. Defaults to second column of history file\n",
    "- **verbose**= print some messages during the process. Defaults to False\n",
    "\n",
    "Lastly the plot can be displayed, or saved using the 'show_plot' and 'save_plot' functions: \n",
    "\n",
    "~~~\n",
    "mp.show_plot()\n",
    "~~~\n",
    "or\n",
    "~~~\n",
    "mp.save_plot(page_name, page_title)\n",
    "~~~\n",
    "\n",
    "where \n",
    "- **page_name**= name of html file to produce, can also be path. Defulats 'Plot.html' which produces file in current working directory\n",
    "- **page_title**= title that browser will display. Defaults to 'MESA Model'\n"
   ]
  },
  {
   "cell_type": "code",
   "execution_count": 1,
   "metadata": {},
   "outputs": [],
   "source": [
    "from IMP import iMESAplotter"
   ]
  },
  {
   "cell_type": "markdown",
   "metadata": {},
   "source": [
    "# Single Example"
   ]
  },
  {
   "cell_type": "code",
   "execution_count": 19,
   "metadata": {},
   "outputs": [
    {
     "name": "stdout",
     "output_type": "stream",
     "text": [
      "Loading history files: ['models/single/models/10/LOGS/history.data']\n"
     ]
    }
   ],
   "source": [
    "\n",
    "model_dir= 'models/single/models/10/'\n",
    "mp=iMESAplotter(model_dir,mode='single')        \n",
    "mp.make_plot(verbose=True, x_qual='log_Teff', y_qual='log_L')\n",
    "\n",
    "mp.save_plot(page_name='examples/Plot_single.html')"
   ]
  },
  {
   "cell_type": "markdown",
   "metadata": {},
   "source": [
    "# Multiple example"
   ]
  },
  {
   "cell_type": "code",
   "execution_count": 20,
   "metadata": {},
   "outputs": [
    {
     "name": "stdout",
     "output_type": "stream",
     "text": [
      "Loading history files: ['models/single/models/1/LOGS/history.data', 'models/single/models/10/LOGS/history.data', 'models/single/models/14/LOGS/history.data', 'models/single/models/2/LOGS/history.data', 'models/single/models/20/LOGS/history.data', 'models/single/models/4/LOGS/history.data', 'models/single/models/6/LOGS/history.data']\n"
     ]
    }
   ],
   "source": [
    "import glob\n",
    "model_dirs = sorted(glob.glob('models/single/models/**'))\n",
    "mp=iMESAplotter(model_dirs,mode='multiple')        \n",
    "mp.make_plot(verbose=True, x_qual='log_Teff', y_qual='log_L')\n",
    "mp.save_plot(page_name='examples/Plot_multiple.html')"
   ]
  },
  {
   "cell_type": "markdown",
   "metadata": {},
   "source": [
    "When mode='multiple', it is assumed that the history files all contain the same columns. If they do **not** then only common columns will be plotted. For example :"
   ]
  },
  {
   "cell_type": "code",
   "execution_count": null,
   "metadata": {},
   "outputs": [],
   "source": [
    "model_dirs = ['models/binary/','models/single/models/10' ]\n",
    "mp=iMESAplotter(model_dirs,mode='multiple')        \n",
    "mp.make_plot(verbose=True, x_qual='log_Teff', y_qual='log_L')\n",
    "mp.show_plot()"
   ]
  },
  {
   "cell_type": "markdown",
   "metadata": {},
   "source": [
    "# Binary example"
   ]
  },
  {
   "cell_type": "code",
   "execution_count": 21,
   "metadata": {},
   "outputs": [
    {
     "name": "stdout",
     "output_type": "stream",
     "text": [
      "Loading history files: ['models/binary/LOGS1/history.data', 'models/binary/LOGS2/history.data']\n"
     ]
    }
   ],
   "source": [
    "\n",
    "model_dir = 'models/binary/'\n",
    "mp=iMESAplotter(model_dir,mode='binary')        \n",
    "mp.make_plot(verbose=True, x_qual='log_Teff', y_qual='log_L')\n",
    "mp.save_plot(page_name='examples/Plot_binary.html')"
   ]
  },
  {
   "cell_type": "markdown",
   "metadata": {},
   "source": [
    "# Tips & tricks"
   ]
  },
  {
   "cell_type": "markdown",
   "metadata": {},
   "source": [
    "The IMP package is very lightweight and modifications to the source code are easily done and encouraged. \n",
    "\n",
    "To modify your plots, you have direct access to the following Bokeh objects: \n",
    "~~~\n",
    "figure\n",
    "lines\n",
    "markers\n",
    "layout\n",
    "~~~\n",
    "\n",
    "These can be used to change the plot in a miriad of ways (see Bokeh documentation), for example:"
   ]
  },
  {
   "cell_type": "markdown",
   "metadata": {},
   "source": [
    "### adding more data to plot ###"
   ]
  },
  {
   "cell_type": "code",
   "execution_count": null,
   "metadata": {},
   "outputs": [],
   "source": [
    "dir= 'models/single/models/1/'\n",
    "mp=iMESAplotter(dir,mode='single')        \n",
    "mp.make_plot(verbose=True, x_qual='log_Teff', y_qual='log_L')\n",
    "mp.figure.scatter(3.76,1, color='red', size=10)\n",
    "mp.show_plot()"
   ]
  },
  {
   "cell_type": "markdown",
   "metadata": {},
   "source": [
    "### zooming in by default on a certain region ###"
   ]
  },
  {
   "cell_type": "code",
   "execution_count": null,
   "metadata": {},
   "outputs": [],
   "source": [
    "from bokeh.models import Range1d\n",
    "\n",
    "dir= 'models/single/models/1/'\n",
    "mp=iMESAplotter(dir,mode='single')        \n",
    "mp.make_plot(verbose=True, x_qual='log_Teff', y_qual='log_L')\n",
    "mp.figure.x_range=Range1d(3.84, 3.76)\n",
    "mp.figure.y_range=Range1d(0, 0.8)\n",
    "mp.show_plot()"
   ]
  },
  {
   "cell_type": "markdown",
   "metadata": {},
   "source": [
    "### removing/adding certain widgets "
   ]
  },
  {
   "cell_type": "code",
   "execution_count": 18,
   "metadata": {},
   "outputs": [
    {
     "name": "stdout",
     "output_type": "stream",
     "text": [
      "Loading history files: ['models/single/models/1/LOGS/history.data']\n",
      "x_data_selector\n",
      "y_data_selector\n",
      "reset_button\n",
      "show_marker_box\n",
      "x_scale_setter\n",
      "y_scale_setter\n"
     ]
    }
   ],
   "source": [
    "dir= 'models/single/models/1/'\n",
    "mp=iMESAplotter(dir,mode='single')        \n",
    "mp.make_plot(verbose=True, x_qual='log_Teff', y_qual='log_L')\n",
    "#print names of widgets\n",
    "for c in mp.layout.children[0].children:\n",
    "    print(c.name)\n",
    "    \n",
    "#remove x and y scale setters\n",
    "del mp.layout.children[0].children[-2:]\n",
    "\n",
    "\n",
    "mp.show_plot()"
   ]
  }
 ],
 "metadata": {
  "kernelspec": {
   "display_name": "Python 3",
   "language": "python",
   "name": "python3"
  },
  "language_info": {
   "codemirror_mode": {
    "name": "ipython",
    "version": 3
   },
   "file_extension": ".py",
   "mimetype": "text/x-python",
   "name": "python",
   "nbconvert_exporter": "python",
   "pygments_lexer": "ipython3",
   "version": "3.8.8"
  }
 },
 "nbformat": 4,
 "nbformat_minor": 2
}
